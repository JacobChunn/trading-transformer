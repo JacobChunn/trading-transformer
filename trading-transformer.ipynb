{
  "cells": [
    {
      "cell_type": "markdown",
      "metadata": {
        "id": "view-in-github",
        "colab_type": "text"
      },
      "source": [
        "<a href=\"https://colab.research.google.com/github/JacobChunn/trading-transformer/blob/master/trading-transformer.ipynb\" target=\"_parent\"><img src=\"https://colab.research.google.com/assets/colab-badge.svg\" alt=\"Open In Colab\"/></a>"
      ]
    },
    {
      "cell_type": "markdown",
      "source": [
        "# Trading Transformer"
      ],
      "metadata": {
        "id": "1GpuopHgeCc1"
      }
    },
    {
      "cell_type": "code",
      "execution_count": null,
      "metadata": {
        "id": "CqgZML3eZ1Xe"
      },
      "outputs": [],
      "source": [
        "import torch\n",
        "import torch.nn as nn\n",
        "import torch.optim as optim\n",
        "import math\n",
        "import numpy as np\n",
        "import pandas as pd"
      ]
    },
    {
      "cell_type": "code",
      "execution_count": null,
      "metadata": {
        "id": "Pgr-MnR4Z1Xf"
      },
      "outputs": [],
      "source": [
        "class MultiHeadAttention(nn.Module):\n",
        "    def __init__(self, d_model, num_heads):\n",
        "        super(MultiHeadAttention, self).__init__()\n",
        "        assert d_model % num_heads == 0, \"d_model must be divisible by num_heads\"\n",
        "        self.d_model = d_model\n",
        "        self.num_heads = num_heads\n",
        "        self.d_k = d_model // num_heads\n",
        "        self.W_q = nn.Linear(d_model, d_model)\n",
        "        self.W_k = nn.Linear(d_model, d_model)\n",
        "        self.W_v = nn.Linear(d_model, d_model)\n",
        "        self.W_o = nn.Linear(d_model, d_model)\n",
        "\n",
        "    def scaled_dot_product_attention(self, Q, K, V, mask=None):\n",
        "        attn_scores = torch.matmul(Q, K.transpose(-2, -1)) / math.sqrt(self.d_k)\n",
        "        if mask is not None:\n",
        "            attn_scores = attn_scores.masked_fill(mask == 0, -1e9)\n",
        "        attn_probs = torch.softmax(attn_scores, dim=-1)\n",
        "        output = torch.matmul(attn_probs, V)\n",
        "        return output\n",
        "\n",
        "    def split_heads(self, x):\n",
        "        batch_size, seq_length, d_model = x.size()\n",
        "        return x.view(batch_size, seq_length, self.num_heads, self.d_k).transpose(1, 2)\n",
        "\n",
        "    def combine_heads(self, x):\n",
        "        batch_size, _, seq_length, d_k = x.size()\n",
        "        return x.transpose(1, 2).contiguous().view(batch_size, seq_length, self.d_model)\n",
        "\n",
        "    def forward(self, Q, K, V, mask=None):\n",
        "        Q = self.split_heads(self.W_q(Q))\n",
        "        K = self.split_heads(self.W_k(K))\n",
        "        V = self.split_heads(self.W_v(V))\n",
        "        attn_output = self.scaled_dot_product_attention(Q, K, V, mask)\n",
        "        output = self.W_o(self.combine_heads(attn_output))\n",
        "        return output"
      ]
    },
    {
      "cell_type": "code",
      "execution_count": null,
      "metadata": {
        "id": "c6pEcS-5Z1Xg"
      },
      "outputs": [],
      "source": [
        "class PositionWiseFeedForward(nn.Module):\n",
        "    def __init__(self, d_model, d_ff):\n",
        "        super(PositionWiseFeedForward, self).__init__()\n",
        "        self.fc1 = nn.Linear(d_model, d_ff)\n",
        "        self.fc2 = nn.Linear(d_ff, d_model)\n",
        "        self.relu = nn.ReLU()\n",
        "\n",
        "    def forward(self, x):\n",
        "        return self.fc2(self.relu(self.fc1(x)))"
      ]
    },
    {
      "cell_type": "code",
      "execution_count": null,
      "metadata": {
        "id": "uU9esAQfZ1Xg"
      },
      "outputs": [],
      "source": [
        "class PositionalEncoding(nn.Module):\n",
        "    def __init__(self, d_model, max_seq_length):\n",
        "        super(PositionalEncoding, self).__init__()\n",
        "        pe = torch.zeros(max_seq_length, d_model)\n",
        "        position = torch.arange(0, max_seq_length, dtype=torch.float).unsqueeze(1)\n",
        "        div_term = torch.exp(torch.arange(0, d_model, 2).float() * -(math.log(10000.0) / d_model))\n",
        "        pe[:, 0::2] = torch.sin(position * div_term)\n",
        "        pe[:, 1::2] = torch.cos(position * div_term)\n",
        "        self.register_buffer('pe', pe.unsqueeze(0))\n",
        "\n",
        "    def forward(self, x):\n",
        "        return x + self.pe[:, :x.size(1)]"
      ]
    },
    {
      "cell_type": "code",
      "execution_count": null,
      "metadata": {
        "id": "LrzUAm1nZ1Xh"
      },
      "outputs": [],
      "source": [
        "class DecoderLayer(nn.Module):\n",
        "    def __init__(self, d_model, num_heads, d_ff, dropout):\n",
        "        super(DecoderLayer, self).__init__()\n",
        "        self.self_attn = MultiHeadAttention(d_model, num_heads)\n",
        "        self.feed_forward = PositionWiseFeedForward(d_model, d_ff)\n",
        "        self.norm1 = nn.LayerNorm(d_model)\n",
        "        self.norm2 = nn.LayerNorm(d_model)\n",
        "        self.dropout = nn.Dropout(dropout)\n",
        "\n",
        "    def forward(self, x, mask):\n",
        "        attn_output = self.self_attn(x, x, x, mask)\n",
        "        x = self.norm1(x + self.dropout(attn_output))\n",
        "        ff_output = self.feed_forward(x)\n",
        "        x = self.norm2(x + self.dropout(ff_output))\n",
        "        return x"
      ]
    },
    {
      "cell_type": "code",
      "execution_count": null,
      "metadata": {
        "id": "xrVcrDhyZ1Xh"
      },
      "outputs": [],
      "source": [
        "class NextValuePredictor(nn.Module):\n",
        "    def __init__(self, vocab_size, d_model, num_heads, num_layers, d_ff, max_seq_length, dropout):\n",
        "        super(NextValuePredictor, self).__init__()\n",
        "        self.embedding = nn.Embedding(vocab_size, d_model)\n",
        "        self.positional_encoding = PositionalEncoding(d_model, max_seq_length)\n",
        "        self.decoder_layers = nn.ModuleList([DecoderLayer(d_model, num_heads, d_ff, dropout) for _ in range(num_layers)])\n",
        "        self.fc = nn.Linear(d_model, vocab_size)\n",
        "        self.dropout = nn.Dropout(dropout)\n",
        "\n",
        "    def generate_mask(self, tgt):\n",
        "        #print(\"tgt\", tgt)\n",
        "        seq_length = tgt.size(1)\n",
        "        #print(\"seq_length\", seq_length)\n",
        "        nopeak_mask = (1 - torch.triu(torch.ones(1, seq_length, seq_length), diagonal=1)).bool()\n",
        "        tgt_mask = (tgt != 0).unsqueeze(1).unsqueeze(2) & nopeak_mask\n",
        "        #print(\"tgt_mask: \", tgt_mask)\n",
        "        #print(\"tgt_mask.shape: \", tgt_mask.shape)\n",
        "        return tgt_mask\n",
        "\n",
        "    def forward(self, tgt):\n",
        "        tgt_mask = self.generate_mask(tgt)\n",
        "        tgt_embedded = self.dropout(self.positional_encoding(self.embedding(tgt)))\n",
        "        dec_output = tgt_embedded\n",
        "        for dec_layer in self.decoder_layers:\n",
        "            dec_output = dec_layer(dec_output, tgt_mask)\n",
        "        output = self.fc(dec_output)\n",
        "        return output"
      ]
    },
    {
      "cell_type": "code",
      "execution_count": null,
      "metadata": {
        "id": "3wQ5jx9-Z1Xh"
      },
      "outputs": [],
      "source": [
        "# Read and preprocess the data\n",
        "data = pd.read_csv('EURUSD-short.txt', skiprows=1, header=None)\n",
        "data.columns = ['<TICKER>', '<DTYYYYMMDD>', '<TIME>', '<OPEN>', '<HIGH>', '<LOW>', '<CLOSE>', '<VOL>']\n",
        "data.columns = [col.strip('<>') for col in data.columns]\n",
        "\n",
        "data['TIME'] = data['TIME'].apply(lambda x: f'{int(x):06d}')\n",
        "data['DATETIME'] = pd.to_datetime(data['DTYYYYMMDD'].astype(str) + data['TIME'], format='%Y%m%d%H%M%S')\n",
        "\n",
        "# Extract relevant columns\n",
        "data = data[['DATETIME', 'OPEN', 'HIGH', 'LOW', 'CLOSE', 'VOL']]"
      ]
    },
    {
      "cell_type": "code",
      "execution_count": null,
      "metadata": {
        "id": "mt4chd9_Z1Xh"
      },
      "outputs": [],
      "source": [
        "# Create sequences using sliding window\n",
        "def create_sequences(data, window_size):\n",
        "    sequences = []\n",
        "    for i in range(len(data) - window_size):\n",
        "        sequences.append(data.iloc[i:i + window_size].values)\n",
        "    return np.array(sequences)\n",
        "\n",
        "# Select a batch of sequences for the tensor\n",
        "def get_batch(sequences, batch_size):\n",
        "    indices = np.random.choice(len(sequences), batch_size, replace=False)\n",
        "    return sequences[indices]\n",
        "\n",
        "window_size = 50  # Number of 60-second intervals in a day\n",
        "batch_size = 64    # Number of sequences per batch\n",
        "vocab_size = 20000\n",
        "d_model = 512\n",
        "num_heads = 8\n",
        "num_layers = 6\n",
        "d_ff = 512  # orig val is 2048\n",
        "max_seq_length = 390  # Set to window_size - need to look into how this relates to window_size\n",
        "dropout = 0.1\n",
        "\n",
        "sequences = create_sequences(data[\"OPEN\"], window_size)\n",
        "batch_sequences = get_batch(sequences, batch_size)\n",
        "\n",
        "# Convert to PyTorch tensor\n",
        "data_tensor = torch.tensor(batch_sequences, dtype=torch.float32)\n",
        "\n",
        "data_tensor_int = (data_tensor * 10000).long()"
      ]
    },
    {
      "cell_type": "code",
      "execution_count": null,
      "metadata": {
        "id": "uy1FU3taZ1Xh"
      },
      "outputs": [],
      "source": [
        "# Model instance\n",
        "model = NextValuePredictor(vocab_size, d_model, num_heads, num_layers, d_ff, max_seq_length, dropout)\n",
        "\n",
        "# Training\n",
        "#criterion = nn.MSELoss()\n",
        "criterion = nn.CrossEntropyLoss() #using cross entropy instead\n",
        "optimizer = optim.Adam(model.parameters(), lr=0.0001, betas=(0.9, 0.98), eps=1e-9)"
      ]
    },
    {
      "cell_type": "code",
      "execution_count": null,
      "metadata": {
        "id": "LCmKarS8Z1Xh"
      },
      "outputs": [],
      "source": [
        "train_input = data_tensor_int[:, :-1]\n",
        "train_target = data_tensor_int[:, 1:]"
      ]
    },
    {
      "cell_type": "code",
      "execution_count": null,
      "metadata": {
        "id": "j7VI3C_pZ1Xi",
        "outputId": "4076fdb5-92a0-479d-a473-322de64c5f92"
      },
      "outputs": [
        {
          "name": "stdout",
          "output_type": "stream",
          "text": [
            "Epoch: 1, Loss: 10.055262565612793\n",
            "Epoch: 2, Loss: 9.629905700683594\n",
            "Epoch: 3, Loss: 9.2384614944458\n",
            "Epoch: 4, Loss: 8.89424991607666\n",
            "Epoch: 5, Loss: 8.601384162902832\n",
            "Epoch: 6, Loss: 8.328292846679688\n",
            "Epoch: 7, Loss: 8.088665008544922\n",
            "Epoch: 8, Loss: 7.856785297393799\n",
            "Epoch: 9, Loss: 7.634387493133545\n",
            "Epoch: 10, Loss: 7.404182434082031\n",
            "Epoch: 11, Loss: 7.194997310638428\n",
            "Epoch: 12, Loss: 6.980340957641602\n",
            "Epoch: 13, Loss: 6.782764434814453\n",
            "Epoch: 14, Loss: 6.586864948272705\n",
            "Epoch: 15, Loss: 6.3984479904174805\n",
            "Epoch: 16, Loss: 6.220820426940918\n",
            "Epoch: 17, Loss: 6.04638671875\n",
            "Epoch: 18, Loss: 5.881972789764404\n",
            "Epoch: 19, Loss: 5.721706867218018\n",
            "Epoch: 20, Loss: 5.568544387817383\n",
            "Epoch: 21, Loss: 5.409043312072754\n",
            "Epoch: 22, Loss: 5.26797342300415\n",
            "Epoch: 23, Loss: 5.130000114440918\n",
            "Epoch: 24, Loss: 4.993512153625488\n",
            "Epoch: 25, Loss: 4.860896587371826\n"
          ]
        }
      ],
      "source": [
        "model.train()\n",
        "\n",
        "for epoch in range(25):\n",
        "    optimizer.zero_grad()\n",
        "    output = model(train_input)\n",
        "    loss = criterion(output.contiguous().view(-1, vocab_size), train_target.contiguous().view(-1))\n",
        "    loss.backward()\n",
        "    optimizer.step()\n",
        "    print(f\"Epoch: {epoch+1}, Loss: {loss.item()}\")"
      ]
    },
    {
      "cell_type": "code",
      "execution_count": null,
      "metadata": {
        "id": "yizYKC_dZ1Xi"
      },
      "outputs": [],
      "source": [
        "val_sequences = get_batch(sequences, batch_size)\n",
        "val_data = torch.tensor(val_sequences, dtype=torch.float32)\n",
        "val_data_int = (val_data * 10000).long()\n",
        "\n",
        "val_input = val_data_int[:, :-1]\n",
        "val_target = val_data_int[:, 1:]"
      ]
    },
    {
      "cell_type": "code",
      "execution_count": null,
      "metadata": {
        "id": "lkPTtAKTZ1Xi",
        "outputId": "4840c7c0-edef-43d9-819d-ae027eafc184"
      },
      "outputs": [
        {
          "name": "stdout",
          "output_type": "stream",
          "text": [
            "Validation Loss: 6.693717002868652\n",
            "input:\n",
            "\n",
            "tensor([[10860, 10860, 10860,  ..., 10861, 10860, 10860],\n",
            "        [10933, 10932, 10933,  ..., 10933, 10933, 10933],\n",
            "        [10702, 10700, 10700,  ..., 10700, 10702, 10699],\n",
            "        ...,\n",
            "        [10775, 10775, 10775,  ..., 10778, 10778, 10778],\n",
            "        [10932, 10932, 10932,  ..., 10933, 10934, 10934],\n",
            "        [10935, 10935, 10935,  ..., 10935, 10935, 10935]])\n",
            "torch.Size([64, 50])\n",
            "output:\n",
            "\n",
            "tensor([[[-8.3823e-02, -3.3413e-02, -2.9529e-01,  ..., -5.0217e-01,\n",
            "          -7.6658e-01,  1.3690e-01],\n",
            "         [-1.4010e-02, -9.6941e-04, -3.4428e-01,  ..., -4.9619e-01,\n",
            "          -6.3659e-01,  1.7658e-01],\n",
            "         [-4.8548e-02,  2.6456e-02, -4.5473e-01,  ..., -5.1016e-01,\n",
            "          -5.3592e-01,  1.9983e-01],\n",
            "         ...,\n",
            "         [-5.5579e-01, -1.7557e+00, -1.8257e+00,  ..., -6.5025e-02,\n",
            "          -1.0667e+00, -6.7644e-01],\n",
            "         [-6.0225e-01, -1.8032e+00, -1.8333e+00,  ..., -2.9712e-02,\n",
            "          -1.1249e+00, -6.3731e-01],\n",
            "         [-6.3386e-01, -5.2764e-01, -8.2709e-01,  ..., -8.3778e-01,\n",
            "          -1.5387e+00, -3.5956e-01]],\n",
            "\n",
            "        [[-1.4127e+00, -1.7688e+00, -6.1647e-01,  ..., -1.9930e-01,\n",
            "          -1.8116e-01, -2.3104e-01],\n",
            "         [-1.6765e+00, -1.7798e+00, -4.0905e-01,  ..., -5.9576e-01,\n",
            "          -8.3834e-01, -4.4530e-01],\n",
            "         [-1.1578e+00, -1.6047e+00, -5.6765e-01,  ..., -2.5282e-01,\n",
            "          -3.6246e-01, -3.9363e-01],\n",
            "         ...,\n",
            "         [-1.4266e+00, -1.3293e+00, -9.5698e-01,  ...,  3.1148e-04,\n",
            "          -1.2658e+00, -4.6591e-01],\n",
            "         [-1.2234e+00, -1.6247e+00, -7.3869e-01,  ..., -6.4371e-01,\n",
            "          -1.5937e+00, -8.5204e-01],\n",
            "         [-1.3152e+00, -1.7106e+00, -7.7355e-01,  ..., -6.1324e-01,\n",
            "          -1.6118e+00, -8.3775e-01]],\n",
            "\n",
            "        [[-5.6692e-01, -9.1633e-01,  1.5523e-01,  ...,  1.2970e-01,\n",
            "          -1.3832e+00, -8.8325e-01],\n",
            "         [-5.4521e-01, -5.1000e-01,  1.0800e-01,  ...,  3.7624e-02,\n",
            "          -1.4029e+00, -4.6606e-01],\n",
            "         [-3.9034e-01, -3.8130e-01,  1.7629e-01,  ..., -1.2463e-01,\n",
            "          -1.2399e+00, -4.4054e-01],\n",
            "         ...,\n",
            "         [-4.1906e-01, -7.9264e-01, -1.2165e-01,  ..., -8.0919e-01,\n",
            "          -1.2383e+00, -6.3853e-01],\n",
            "         [-4.1229e-01, -6.2738e-01, -4.5435e-02,  ..., -4.2603e-01,\n",
            "          -1.5962e+00, -6.4376e-01],\n",
            "         [-1.9057e-01, -7.0069e-01,  3.5488e-01,  ..., -7.8953e-01,\n",
            "          -1.4219e+00, -9.5519e-01]],\n",
            "\n",
            "        ...,\n",
            "\n",
            "        [[-8.6772e-01, -1.3952e+00, -2.8275e-01,  ..., -2.6771e-01,\n",
            "          -2.8987e-01, -1.0167e+00],\n",
            "         [-7.6765e-01, -1.4040e+00, -3.3035e-01,  ..., -3.0565e-01,\n",
            "          -2.1906e-01, -9.5220e-01],\n",
            "         [-7.6364e-01, -1.4164e+00, -4.2245e-01,  ..., -3.6312e-01,\n",
            "          -1.4498e-01, -8.7809e-01],\n",
            "         ...,\n",
            "         [-9.2716e-01, -1.1768e+00, -9.6018e-01,  ..., -8.1903e-01,\n",
            "          -1.2836e+00, -3.6151e-01],\n",
            "         [-9.7302e-01, -1.2252e+00, -9.8111e-01,  ..., -7.8020e-01,\n",
            "          -1.3205e+00, -3.3587e-01],\n",
            "         [-1.0378e+00, -1.2983e+00, -9.9968e-01,  ..., -7.4441e-01,\n",
            "          -1.3463e+00, -3.2894e-01]],\n",
            "\n",
            "        [[-1.1863e+00, -1.3276e+00, -1.8353e-01,  ..., -8.1390e-01,\n",
            "          -1.1121e+00, -9.4877e-01],\n",
            "         [-1.1006e+00, -1.3197e+00, -2.0036e-01,  ..., -8.5907e-01,\n",
            "          -1.0608e+00, -9.0147e-01],\n",
            "         [-1.1168e+00, -1.2802e+00, -2.5681e-01,  ..., -8.9857e-01,\n",
            "          -9.7396e-01, -8.2013e-01],\n",
            "         ...,\n",
            "         [-1.0670e+00, -1.6887e+00, -8.0028e-01,  ..., -7.9369e-01,\n",
            "          -1.2939e+00, -1.0422e+00],\n",
            "         [-1.1376e+00, -1.7505e+00, -7.7676e-01,  ..., -7.4383e-01,\n",
            "          -1.3415e+00, -1.0353e+00],\n",
            "         [-1.3783e+00, -1.5981e+00, -1.2050e+00,  ..., -5.6220e-01,\n",
            "          -1.0051e+00, -6.7620e-01]],\n",
            "\n",
            "        [[-5.5269e-01, -2.3459e-01, -2.5040e-01,  ..., -2.3070e-01,\n",
            "          -2.5553e-01,  2.4717e-01],\n",
            "         [-4.6168e-01, -2.0015e-01, -3.1700e-01,  ..., -2.4162e-01,\n",
            "          -1.6057e-01,  2.8090e-01],\n",
            "         [-4.7074e-01, -1.6027e-01, -4.3662e-01,  ..., -2.6198e-01,\n",
            "          -7.1004e-02,  2.8972e-01],\n",
            "         ...,\n",
            "         [-8.5145e-01, -9.7785e-01, -9.7720e-01,  ..., -5.3565e-01,\n",
            "          -9.7422e-01, -4.5559e-03],\n",
            "         [-9.0494e-01, -1.0329e+00, -9.5022e-01,  ..., -5.0421e-01,\n",
            "          -9.9180e-01, -1.8418e-02],\n",
            "         [-9.6730e-01, -1.1139e+00, -9.4003e-01,  ..., -4.7730e-01,\n",
            "          -1.0199e+00, -3.9418e-02]]])\n",
            "torch.Size([64, 49, 20000])\n"
          ]
        }
      ],
      "source": [
        "model.eval()\n",
        "\n",
        "with torch.no_grad():\n",
        "    val_output = model(val_input)\n",
        "    val_loss = criterion(val_output.contiguous().view(-1, vocab_size), val_target.contiguous().view(-1))\n",
        "    print(f\"Validation Loss: {val_loss.item()}\")\n",
        "    print(\"input:\\n\")\n",
        "    print(val_data_int)\n",
        "    print(val_data_int.shape)\n",
        "    print(\"output:\\n\")\n",
        "    print(val_output)\n",
        "    print(val_output.shape)"
      ]
    }
  ],
  "metadata": {
    "kernelspec": {
      "display_name": "Python 3",
      "language": "python",
      "name": "python3"
    },
    "language_info": {
      "codemirror_mode": {
        "name": "ipython",
        "version": 3
      },
      "file_extension": ".py",
      "mimetype": "text/x-python",
      "name": "python",
      "nbconvert_exporter": "python",
      "pygments_lexer": "ipython3",
      "version": "3.12.3"
    },
    "colab": {
      "provenance": [],
      "include_colab_link": true
    }
  },
  "nbformat": 4,
  "nbformat_minor": 0
}